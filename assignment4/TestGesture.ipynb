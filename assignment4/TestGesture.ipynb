{
 "cells": [
  {
   "cell_type": "code",
   "execution_count": 13,
   "metadata": {},
   "outputs": [],
   "source": [
    "from libraries.audio import speech_recog\n",
    "# import nao_nocv_2_1 as nao\n",
    "import nao_nocv_2_1 as nao"
   ]
  },
  {
   "cell_type": "code",
   "execution_count": 14,
   "metadata": {},
   "outputs": [
    {
     "name": "stdout",
     "output_type": "stream",
     "text": [
      "Error when creating  ALAudioDevice  proxy:\n",
      "\tALProxy::ALProxy\n",
      "\tCan't find service: ALAudioDevice\n",
      "Error when creating  ALFaceDetection  proxy:\n",
      "\tALProxy::ALProxy\n",
      "\tCan't find service: ALFaceDetection\n",
      "Error when creating  ALFaceTracker  proxy:\n",
      "\tALProxy::ALProxy\n",
      "\tCan't find service: ALFaceTracker\n",
      "Error when creating  ALSpeechRecognition  proxy:\n",
      "\tALProxy::ALProxy\n",
      "\tCan't find service: ALSpeechRecognition\n",
      "Error when creating  ALVideoRecorder  proxy:\n",
      "\tALProxy::ALProxy\n",
      "\tCan't find service: ALVideoRecorder\n",
      "Error when creating  ALLandMarkDetection  proxy:\n",
      "\tALProxy::ALProxy\n",
      "\tCan't find service: ALLandMarkDetection\n",
      "Error when creating  ALSoundDetection  proxy:\n",
      "\tALProxy::ALProxy\n",
      "\tCan't find service: ALSoundDetection\n",
      "Error when creating  ALAudioSourceLocalization  proxy:\n",
      "\tALProxy::ALProxy\n",
      "\tCan't find service: ALAudioSourceLocalization\n"
     ]
    }
   ],
   "source": [
    "nao.InitProxy(\"127.0.0.1\",[0])"
   ]
  },
  {
   "cell_type": "code",
   "execution_count": 15,
   "metadata": {},
   "outputs": [],
   "source": [
    "nao.InitPose()"
   ]
  },
  {
   "cell_type": "code",
   "execution_count": 16,
   "metadata": {},
   "outputs": [],
   "source": [
    "nao.RunMovement(\"wave_hands.py\",to_start_position=False)"
   ]
  },
  {
   "cell_type": "code",
   "execution_count": 12,
   "metadata": {},
   "outputs": [
    {
     "name": "stdout",
     "output_type": "stream",
     "text": [
      "Hello there. Nice to meet you.\n",
      "Bye Bye.\n"
     ]
    }
   ],
   "source": [
    "# result=speech_recog([\"Y\"])\n",
    "for result in [\"Y\",\"N\"]:\n",
    "    if result==\"Y\": # There is a person\n",
    "        nao.RunMovement(\"wave_hands.py\",to_start_position=False)\n",
    "        nao.sleep(0.5)\n",
    "        nao.Say(\"Hello there. Nice to meet you.\")\n",
    "    if result==\"N\":\n",
    "        nao.RunMovement(\"wave_hands.py\",to_start_position=False)\n",
    "        nao.sleep(0.5)\n",
    "        nao.Say(\"Bye Bye.\")\n",
    "        \n"
   ]
  },
  {
   "cell_type": "code",
   "execution_count": null,
   "metadata": {},
   "outputs": [],
   "source": []
  }
 ],
 "metadata": {
  "kernelspec": {
   "display_name": "Python 2",
   "language": "python",
   "name": "python2"
  },
  "language_info": {
   "codemirror_mode": {
    "name": "ipython",
    "version": 2
   },
   "file_extension": ".py",
   "mimetype": "text/x-python",
   "name": "python",
   "nbconvert_exporter": "python",
   "pygments_lexer": "ipython2",
   "version": "2.7.10"
  },
  "orig_nbformat": 4
 },
 "nbformat": 4,
 "nbformat_minor": 2
}
