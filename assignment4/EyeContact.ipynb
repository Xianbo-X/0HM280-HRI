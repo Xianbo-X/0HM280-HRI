{
 "cells": [
  {
   "cell_type": "code",
   "execution_count": 2,
   "metadata": {},
   "outputs": [
    {
     "ename": "ValueError",
     "evalue": "Attempted relative import in non-package",
     "output_type": "error",
     "traceback": [
      "\u001b[0;31m\u001b[0m",
      "\u001b[0;31mValueError\u001b[0mTraceback (most recent call last)",
      "\u001b[0;32m<ipython-input-2-14afa20436b5>\u001b[0m in \u001b[0;36m<module>\u001b[0;34m()\u001b[0m\n\u001b[0;32m----> 1\u001b[0;31m \u001b[0;32mfrom\u001b[0m \u001b[0;34m.\u001b[0m\u001b[0;34m.\u001b[0m\u001b[0mWhole_project\u001b[0m\u001b[0;34m.\u001b[0m\u001b[0mlibraries\u001b[0m \u001b[0;32mimport\u001b[0m \u001b[0mnao_nocv_2_1\u001b[0m \u001b[0;32mas\u001b[0m \u001b[0mnao\u001b[0m\u001b[0;34m\u001b[0m\u001b[0m\n\u001b[0m",
      "\u001b[0;31mValueError\u001b[0m: Attempted relative import in non-package"
     ]
    }
   ],
   "source": [
    "from ..Whole_project.libraries import nao_nocv_2_1 as nao\n"
   ]
  },
  {
   "cell_type": "code",
   "execution_count": 3,
   "metadata": {},
   "outputs": [
    {
     "ename": "NameError",
     "evalue": "name 'nao' is not defined",
     "output_type": "error",
     "traceback": [
      "\u001b[0;31m\u001b[0m",
      "\u001b[0;31mNameError\u001b[0mTraceback (most recent call last)",
      "\u001b[0;32m<ipython-input-3-2f5266150f36>\u001b[0m in \u001b[0;36m<module>\u001b[0;34m()\u001b[0m\n\u001b[1;32m      1\u001b[0m \u001b[0mip_addr\u001b[0m\u001b[0;34m=\u001b[0m\u001b[0;34m\"127.0.0.1\"\u001b[0m\u001b[0;34m\u001b[0m\u001b[0m\n\u001b[1;32m      2\u001b[0m \u001b[0;31m# ip_addr=\"192.168.0.115\"\u001b[0m\u001b[0;34m\u001b[0m\u001b[0;34m\u001b[0m\u001b[0m\n\u001b[0;32m----> 3\u001b[0;31m \u001b[0mnao\u001b[0m\u001b[0;34m.\u001b[0m\u001b[0mInitProxy\u001b[0m\u001b[0;34m(\u001b[0m\u001b[0mip_addr\u001b[0m\u001b[0;34m)\u001b[0m\u001b[0;34m\u001b[0m\u001b[0m\n\u001b[0m",
      "\u001b[0;31mNameError\u001b[0m: name 'nao' is not defined"
     ]
    }
   ],
   "source": [
    "ip_addr=\"127.0.0.1\"\n",
    "# ip_addr=\"192.168.0.115\"\n",
    "nao.InitProxy(ip_addr)"
   ]
  },
  {
   "cell_type": "code",
   "execution_count": null,
   "metadata": {},
   "outputs": [],
   "source": [
    "nao.GetAvailableLEDPatterns()\n",
    "# Start Listening with both eyes blue in rotation pattern \n",
    "nao.RunLED(\"Listening.led\")\n",
    "# Received Messgae with both eyes blue stay blue for a while\n",
    "nao.RunLED(\"MessageReceive.led\")\n",
    "# Thinking behavior in LED pattern\n",
    "nao.RunLED(\"Thinking.led\")"
   ]
  }
 ],
 "metadata": {
  "interpreter": {
   "hash": "949777d72b0d2535278d3dc13498b2535136f6dfe0678499012e853ee9abcab1"
  },
  "kernelspec": {
   "display_name": "Python 2.7.18 64-bit",
   "language": "python",
   "name": "python3"
  },
  "language_info": {
   "codemirror_mode": {
    "name": "ipython",
    "version": 2
   },
   "file_extension": ".py",
   "mimetype": "text/x-python",
   "name": "python",
   "nbconvert_exporter": "python",
   "pygments_lexer": "ipython2",
   "version": "2.7.18"
  },
  "orig_nbformat": 4
 },
 "nbformat": 4,
 "nbformat_minor": 2
}
