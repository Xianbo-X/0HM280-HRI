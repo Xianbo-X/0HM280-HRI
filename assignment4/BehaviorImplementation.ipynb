{
 "cells": [
  {
   "cell_type": "code",
   "execution_count": 1,
   "metadata": {
    "collapsed": false
   },
   "outputs": [],
   "source": [
    "# from libraries.audio import speech_recog\n",
    "# import nao_nocv_2_1 as nao\n",
    "import nao_nocv_2_1 as nao\n",
    "import sys\n",
    "sys.path.append(\"./\")"
   ]
  },
  {
   "cell_type": "code",
   "execution_count": 2,
   "metadata": {
    "collapsed": false
   },
   "outputs": [
    {
     "name": "stdout",
     "output_type": "stream",
     "text": [
      "Error when creating  ALAudioDevice  proxy:\n",
      "\tALProxy::ALProxy\n",
      "\tCan't find service: ALAudioDevice\n",
      "Error when creating  ALFaceDetection  proxy:\n",
      "\tALProxy::ALProxy\n",
      "\tCan't find service: ALFaceDetection\n",
      "Error when creating  ALFaceTracker  proxy:\n",
      "\tALProxy::ALProxy\n",
      "\tCan't find service: ALFaceTracker\n",
      "Error when creating  ALSpeechRecognition  proxy:\n",
      "\tALProxy::ALProxy\n",
      "\tCan't find service: ALSpeechRecognition\n",
      "Error when creating  ALVideoRecorder  proxy:\n",
      "\tALProxy::ALProxy\n",
      "\tCan't find service: ALVideoRecorder\n",
      "Error when creating  ALLandMarkDetection  proxy:\n",
      "\tALProxy::ALProxy\n",
      "\tCan't find service: ALLandMarkDetection\n",
      "Error when creating  ALSoundDetection  proxy:\n",
      "\tALProxy::ALProxy\n",
      "\tCan't find service: ALSoundDetection\n",
      "Error when creating  ALAudioSourceLocalization  proxy:\n",
      "\tALProxy::ALProxy\n",
      "\tCan't find service: ALAudioSourceLocalization\n"
     ]
    }
   ],
   "source": [
    "nao.InitProxy(\"127.0.0.1\",[0])"
   ]
  },
  {
   "cell_type": "code",
   "execution_count": 3,
   "metadata": {
    "collapsed": true
   },
   "outputs": [],
   "source": [
    "nao.InitPose()"
   ]
  },
  {
   "cell_type": "code",
   "execution_count": 7,
   "metadata": {
    "collapsed": false
   },
   "outputs": [
    {
     "name": "stdout",
     "output_type": "stream",
     "text": [
      "Hello there. Nice to meet you.\n"
     ]
    }
   ],
   "source": [
    "# %% Behavior 1 & 2: Waving when detecting someone approaching and say greeting words; If not then acting bored behavior\n",
    "# result = nao.FindFace()\n",
    "for result in [True, False]:\n",
    "    if result==True: # There is a person\n",
    "        nao.RunMovement(\"behaviors/wave_hands.py\",to_start_position=False)\n",
    "        nao.sleep(0.5)\n",
    "        nao.Say(\"Hello there. Nice to meet you.\")"
   ]
  },
  {
   "cell_type": "code",
   "execution_count": 8,
   "metadata": {},
   "outputs": [
    {
     "name": "stdout",
     "output_type": "stream",
     "text": [
      "Hum...\n"
     ]
    }
   ],
   "source": [
    "for result in [True, False]:\n",
    "    if result==False: # No person approaching\n",
    "        nao.RunMovement(\"behaviors/bored.py\",to_start_position=False)\n",
    "        nao.sleep(0.5)\n",
    "        nao.Say(\"Hum...\")\n",
    "        "
   ]
  },
  {
   "cell_type": "code",
   "execution_count": 12,
   "metadata": {
    "collapsed": false
   },
   "outputs": [
    {
     "name": "stdout",
     "output_type": "stream",
     "text": [
      "Welcome! Please give me your personal ID, and when you done, please say done to me.\n"
     ]
    }
   ],
   "source": [
    "# %% Behavior 3: Welcome guests when they choose check-in service\n",
    "# answer = speech_recog([\"check in\"])\n",
    "for answer in [\"check in\"]:\n",
    "    nao.RunMovement(\"behaviors/welcome.py\",to_start_position=False)\n",
    "    nao.sleep(0.5)\n",
    "    nao.Say(\"Welcome! Please give me your personal ID, and when you done, please say done to me.\")\n",
    "    nao.InitPose()"
   ]
  },
  {
   "cell_type": "code",
   "execution_count": 15,
   "metadata": {
    "collapsed": false
   },
   "outputs": [
    {
     "name": "stdout",
     "output_type": "stream",
     "text": [
      "Please follow me.\n"
     ]
    },
    {
     "ename": "",
     "evalue": "",
     "output_type": "error",
     "traceback": [
      "\u001b[1;31mThe Kernel crashed while executing code in the the current cell or a previous cell. Please review the code in the cell(s) to identify a possible cause of the failure. Click <a href='https://aka.ms/vscodeJupyterKernelCrash'>here</a> for more info. View Jupyter <a href='command:jupyter.viewOutput'>log</a> for further details."
     ]
    }
   ],
   "source": [
    "# %% Behavior 4: Guide guests to the destination\n",
    "# answer = speech_recog([\"guide\"])\n",
    "for answer in [\"guide\"]:\n",
    "    nao.RunMovement(\"behaviors/guide.py\",to_start_position=False)\n",
    "    nao.sleep(0.5)\n",
    "    nao.Say(\"Please follow me.\")"
   ]
  },
  {
   "cell_type": "code",
   "execution_count": 10,
   "metadata": {
    "collapsed": false
   },
   "outputs": [
    {
     "name": "stdout",
     "output_type": "stream",
     "text": [
      "I love play football! Do you play football?\n"
     ]
    }
   ],
   "source": [
    "# %% Behavior 5: Make conversation with guests\n",
    "# question = speech_recog([\"favorite sport\"])\n",
    "for question in [\"favorite sport\"]:\n",
    "    nao.RunMovement(\"behaviors/kick_football.py\",to_start_position=False)\n",
    "    nao.sleep(0.5)\n",
    "    nao.Say(\"I love play football! Do you play football?\")\n",
    "    nao.InitPose()"
   ]
  },
  {
   "cell_type": "code",
   "execution_count": 11,
   "metadata": {
    "collapsed": false
   },
   "outputs": [
    {
     "name": "stdout",
     "output_type": "stream",
     "text": [
      "Thank you for choosing our hotel. I wish to see you next time!\n"
     ]
    }
   ],
   "source": [
    "# %% Behavior 6: Kissing goodbye when guests finished check-out\n",
    "# answer = speech_recog([\"check out])\n",
    "for answer in [\"check out\"]:\n",
    "    nao.RunMovement(\"behaviors/kisses.py\",to_start_position=False)\n",
    "    nao.sleep(0.5)\n",
    "    nao.Say(\"Thank you for choosing our hotel. I wish to see you next time!\")"
   ]
  },
  {
   "cell_type": "code",
   "execution_count": null,
   "metadata": {
    "collapsed": true
   },
   "outputs": [],
   "source": []
  }
 ],
 "metadata": {
  "kernelspec": {
   "display_name": "Python 2",
   "language": "python",
   "name": "python2"
  },
  "language_info": {
   "codemirror_mode": {
    "name": "ipython",
    "version": 2
   },
   "file_extension": ".py",
   "mimetype": "text/x-python",
   "name": "python",
   "nbconvert_exporter": "python",
   "pygments_lexer": "ipython2",
   "version": "2.7.10"
  }
 },
 "nbformat": 4,
 "nbformat_minor": 2
}
