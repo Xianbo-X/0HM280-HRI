{
 "cells": [
  {
   "cell_type": "code",
   "execution_count": 123,
   "metadata": {},
   "outputs": [],
   "source": [
    "from kalmanfilter import kalmanfilter\n",
    "from behaviour_based_navigation import compute_velocity\n",
    "from sprite_routines import nao_robot"
   ]
  },
  {
   "cell_type": "code",
   "execution_count": 124,
   "metadata": {},
   "outputs": [],
   "source": [
    "import numpy as np"
   ]
  },
  {
   "cell_type": "code",
   "execution_count": 125,
   "metadata": {},
   "outputs": [],
   "source": [
    "def dynamic_model(state,input,A,B,noise):\n",
    "    return A*state+B*input+noise\n",
    "\n",
    "def measurement(state,C,noise):\n",
    "    return C*state+noise"
   ]
  },
  {
   "cell_type": "code",
   "execution_count": 126,
   "metadata": {},
   "outputs": [],
   "source": [
    "delta_t=0.05 # According to the sprite_routines defination"
   ]
  },
  {
   "cell_type": "code",
   "execution_count": 127,
   "metadata": {},
   "outputs": [],
   "source": [
    "initState=np.matrix(np.array([[0.1,0.5]]).T)\n",
    "initSigma=np.matrix(np.identity(initState.shape[0])*0.005)"
   ]
  },
  {
   "cell_type": "code",
   "execution_count": 128,
   "metadata": {},
   "outputs": [],
   "source": [
    "A=np.matrix(np.identity(initState.shape[0]))\n",
    "B=np.matrix(np.array([[np.sqrt(3)/2,np.sqrt(3)/2]]).T*delta_t)\n",
    "C=np.matrix(np.identity(initState.shape[0]))\n",
    "R=np.matrix(0.01*np.identity(initState.shape[0])) # epsilon noise (process noise)\n",
    "Q=np.matrix(0.01*np.identity(initState.shape[0])) # delta noise (measurement noise)"
   ]
  },
  {
   "cell_type": "code",
   "execution_count": 129,
   "metadata": {},
   "outputs": [],
   "source": [
    "states=[initState]\n",
    "true_state=[initState]\n",
    "mu_s=[initState]\n",
    "sigma_s=[np.matrix([0,0,0,0]).reshape(2,2)]\n",
    "mu=mu_s[0]\n",
    "sigma=sigma_s[0]\n",
    "samples=50\n",
    "for t in range(samples):\n",
    "    cur_state=states[t]\n",
    "    true_cur_state=true_state[t]\n",
    "    states.append(dynamic_model(cur_state,compute_velocity(cur_state[0,0],cur_state[1,0]),A,B,np.matrix(np.random.multivariate_normal([0,0],R).reshape(-1,1))))\n",
    "    # mu,sigma=kalmanfilter(mu,sigma,compute_velocity(mu[0,0],mu[1,0]),cur_state,A,B,C,R,Q)\n",
    "    mu,sigma=kalmanfilter(mu,sigma,compute_velocity(mu[0,0],mu[1,0]),measurement(true_cur_state,C, np.matrix(np.random.multivariate_normal([0,0],Q).reshape(-1,1)) ),A,B,C,R,Q)\n",
    "    mu_s.append(mu)\n",
    "    sigma_s.append(sigma)\n",
    "    true_state.append(dynamic_model(true_cur_state,compute_velocity(true_cur_state[0,0],true_cur_state[1,0]),A,B,0))"
   ]
  },
  {
   "cell_type": "code",
   "execution_count": 130,
   "metadata": {},
   "outputs": [],
   "source": [
    "from matplotlib import pyplot as plt"
   ]
  },
  {
   "cell_type": "code",
   "execution_count": 131,
   "metadata": {},
   "outputs": [],
   "source": [
    "all_states=np.hstack(states)\n",
    "all_true_states=np.hstack(true_state)\n",
    "all_kalman_states=np.hstack(mu_s)"
   ]
  },
  {
   "cell_type": "code",
   "execution_count": 132,
   "metadata": {},
   "outputs": [],
   "source": [
    "x=np.arange(samples+1)\n",
    "all_sigmas=np.sqrt(np.array(sigma_s))"
   ]
  },
  {
   "cell_type": "code",
   "execution_count": 133,
   "metadata": {},
   "outputs": [
    {
     "data": {
      "text/plain": [
       "<matplotlib.collections.PolyCollection at 0x110460d0>"
      ]
     },
     "execution_count": 133,
     "metadata": {},
     "output_type": "execute_result"
    }
   ],
   "source": [
    "plt.plot(np.array(all_states[0,:]).squeeze(),label=\"Noisy\")\n",
    "plt.plot(np.array(all_true_states[0,:]).squeeze(),label=\"No noise\")\n",
    "plt.plot(np.array(all_kalman_states[0,:]).squeeze(),label=\"kalman\")\n",
    "plt.fill_between(x,np.array(all_kalman_states[0,:]).squeeze()-all_sigmas[:,0,0].squeeze(),np.array(all_kalman_states[0,:]).squeeze()+all_sigmas[:,0,0].squeeze(),alpha=0.3)"
   ]
  },
  {
   "cell_type": "code",
   "execution_count": 134,
   "metadata": {},
   "outputs": [],
   "source": [
    "plt.legend()\n",
    "plt.show()"
   ]
  },
  {
   "cell_type": "code",
   "execution_count": 71,
   "metadata": {},
   "outputs": [],
   "source": []
  },
  {
   "cell_type": "code",
   "execution_count": 77,
   "metadata": {},
   "outputs": [],
   "source": []
  },
  {
   "cell_type": "code",
   "execution_count": 78,
   "metadata": {},
   "outputs": [
    {
     "data": {
      "text/plain": [
       "(51, 2, 2)"
      ]
     },
     "execution_count": 78,
     "metadata": {},
     "output_type": "execute_result"
    }
   ],
   "source": [
    "all_sigmas.shape"
   ]
  },
  {
   "cell_type": "code",
   "execution_count": 85,
   "metadata": {},
   "outputs": [
    {
     "data": {
      "text/plain": [
       "<matplotlib.collections.PolyCollection at 0xe926270>"
      ]
     },
     "execution_count": 85,
     "metadata": {},
     "output_type": "execute_result"
    }
   ],
   "source": [
    "plt.plot(x,np.array(all_states[1,:]).squeeze(),label=\"Noisy\")\n",
    "plt.plot(x,np.array(all_true_states[1,:]).squeeze(),label=\"No noise\")\n",
    "plt.plot(x,np.array(all_kalman_states[1,:]).squeeze(),label=\"kalman\")\n",
    "plt.fill_between(x,np.array(all_kalman_states[1,:]).squeeze()-all_sigmas[:,1,1].squeeze(),np.array(all_kalman_states[1,:]).squeeze()+all_sigmas[:,1,1].squeeze(),alpha=0.3)"
   ]
  },
  {
   "cell_type": "code",
   "execution_count": 86,
   "metadata": {},
   "outputs": [],
   "source": [
    "plt.legend()\n",
    "plt.show()"
   ]
  },
  {
   "cell_type": "code",
   "execution_count": null,
   "metadata": {},
   "outputs": [],
   "source": []
  }
 ],
 "metadata": {
  "kernelspec": {
   "display_name": "Python 2",
   "language": "python",
   "name": "python2"
  },
  "language_info": {
   "codemirror_mode": {
    "name": "ipython",
    "version": 2
   },
   "file_extension": ".py",
   "mimetype": "text/x-python",
   "name": "python",
   "nbconvert_exporter": "python",
   "pygments_lexer": "ipython2",
   "version": "2.7.10"
  },
  "orig_nbformat": 4
 },
 "nbformat": 4,
 "nbformat_minor": 2
}
