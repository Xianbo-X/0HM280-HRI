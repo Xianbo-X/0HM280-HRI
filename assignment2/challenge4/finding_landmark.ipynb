{
 "cells": [
  {
   "cell_type": "code",
   "execution_count": 3,
   "metadata": {},
   "outputs": [
    {
     "ename": "ImportError",
     "evalue": "No module named nao_qi",
     "output_type": "error",
     "traceback": [
      "\u001b[0;31m\u001b[0m",
      "\u001b[0;31mImportError\u001b[0mTraceback (most recent call last)",
      "\u001b[0;32m<ipython-input-3-3902884b0f9e>\u001b[0m in \u001b[0;36m<module>\u001b[0;34m()\u001b[0m\n\u001b[0;32m----> 1\u001b[0;31m \u001b[0;32mimport\u001b[0m \u001b[0mnao_qi\u001b[0m \u001b[0;32mas\u001b[0m \u001b[0mnao\u001b[0m\u001b[0;34m\u001b[0m\u001b[0m\n\u001b[0m\u001b[1;32m      2\u001b[0m \u001b[0;32mimport\u001b[0m \u001b[0mnumpy\u001b[0m \u001b[0;32mas\u001b[0m \u001b[0mnp\u001b[0m\u001b[0;34m\u001b[0m\u001b[0m\n\u001b[1;32m      3\u001b[0m \u001b[0;32mimport\u001b[0m \u001b[0mtime\u001b[0m\u001b[0;34m\u001b[0m\u001b[0m\n",
      "\u001b[0;31mImportError\u001b[0m: No module named nao_qi"
     ]
    }
   ],
   "source": [
    "import nao_qi as nao\n",
    "from naoqi import ALProxy\n",
    "import numpy as np\n",
    "import time\n",
    "import math"
   ]
  },
  {
   "cell_type": "code",
   "execution_count": null,
   "metadata": {},
   "outputs": [],
   "source": [
    "def search_landmark():\n",
    "    \"\"\"\n",
    "    markerinfo[0][0] #markerID\n",
    "    markerinfo[0][1] #alpha - x location in camera angle\n",
    "    markerinfo[0][2] #beta  - y location\n",
    "    markerinfo[0][3] #sizeX\n",
    "    markerinfo[0][4] #sizeY\n",
    "    markerinfo[0][5] #orientation about vertical w.r. Nao's head\n",
    "    \"\"\"\n",
    "    # head move range -119.5 ~ 119.5 deg\n",
    "    head_mov_range = np.linspace(-2.086017,2.086017,10)\n",
    "    # detect landmark times\n",
    "    detect_cnt = 100\n",
    "    for rad in range(head_mov_range):\n",
    "        nao.InitTrack()\n",
    "        nao.MoveHead(yaw_va = rad, pitch_val=0, isAbsolute=True)\n",
    "        time.sleep(0.2)\n",
    "        nao.InitVideo(1) # resolution 320*240\n",
    "        nao.InitLandMark()\n",
    "        # detect landmark and return info\n",
    "        for cnt in range(detect_cnt):\n",
    "            detected, timestamp, markerInfo=nao.DetectLandMark()\n",
    "            if(detected):\n",
    "                return detected, markerInfo\n",
    "    return False, None"
   ]
  },
  {
   "cell_type": "code",
   "execution_count": 2,
   "metadata": {},
   "outputs": [
    {
     "data": {
      "text/plain": [
       "array([-2.086017  , -1.62245767, -1.15889833, -0.695339  , -0.23177967,\n",
       "        0.23177967,  0.695339  ,  1.15889833,  1.62245767,  2.086017  ])"
      ]
     },
     "execution_count": 2,
     "metadata": {},
     "output_type": "execute_result"
    }
   ],
   "source": [
    "# find landmark\n",
    "find_landmark, markinfo = search_landmark()\n",
    "\n",
    "if(find_landmark):\n",
    "    print markinfo[0][3]\n",
    "else:\n",
    "    nao.InitSonar(True)\n",
    "    [SL, SR]=nao.ReadSonar()\n",
    "    if(SL<10 and SR<10):\n",
    "        nao.Stiffen() # turns all motors on\n",
    "        nao.Walk(3, 0, 0) # move forward to find the landmark\n",
    "    else:\n",
    "        nao.Walk(0,0,math.pi) # turn around\n",
    "        nao.Walk(3, 0, 0)\n",
    "    find_landmark, markinfo = search_landmark()\n",
    "    if(find_landmark==False):\n",
    "        speaker = ALProxy(IP=\"marvin.local\", proxy=[0], PORT = 9559) # may need to changed\n",
    "        speaker.say(\"I cannot find landmark!\")\n",
    "\n"
   ]
  }
 ],
 "metadata": {
  "interpreter": {
   "hash": "d8b33154e94ef7fbd9eb05f448089dfbe4e6a56194b64c2b9846716689325198"
  },
  "kernelspec": {
   "display_name": "Python 2.7.18 ('.venv': venv)",
   "language": "python",
   "name": "python3"
  },
  "language_info": {
   "codemirror_mode": {
    "name": "ipython",
    "version": 2
   },
   "file_extension": ".py",
   "mimetype": "text/x-python",
   "name": "python",
   "nbconvert_exporter": "python",
   "pygments_lexer": "ipython2",
   "version": "2.7.18"
  },
  "orig_nbformat": 4
 },
 "nbformat": 4,
 "nbformat_minor": 2
}
