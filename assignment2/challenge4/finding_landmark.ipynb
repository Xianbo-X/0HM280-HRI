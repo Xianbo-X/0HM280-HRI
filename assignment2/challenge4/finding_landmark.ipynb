{
 "cells": [
  {
   "cell_type": "code",
   "execution_count": 70,
   "metadata": {
    "collapsed": false
   },
   "outputs": [],
   "source": [
    "import nao_nocv_2_1 as nao\n",
    "from naoqi import ALProxy\n",
    "import numpy as np\n",
    "import time\n",
    "import math"
   ]
  },
  {
   "cell_type": "code",
   "execution_count": 71,
   "metadata": {
    "collapsed": true
   },
   "outputs": [],
   "source": [
    "def search_landmark():\n",
    "    \"\"\"\n",
    "    markerinfo[0][0] #markerID\n",
    "    markerinfo[0][1] #alpha - x location in camera angle\n",
    "    markerinfo[0][2] #beta  - y location\n",
    "    markerinfo[0][3] #sizeX\n",
    "    markerinfo[0][4] #sizeY\n",
    "    markerinfo[0][5] #orientation about vertical w.r. Nao's head\n",
    "    \"\"\"\n",
    "    # head move range -119.5 ~ 119.5 deg\n",
    "    head_mov_range = np.linspace(-2.086017,2.086017,10)\n",
    "    # detect landmark times\n",
    "    detect_cnt = 100\n",
    "#     for rad in range(head_mov_range):\n",
    "    for rad in head_mov_range:\n",
    "        nao.InitTrack()\n",
    "        nao.MoveHead(yaw_val = rad, pitch_val=0, isAbsolute=True)\n",
    "#         time.sleep(0.2)\n",
    "        nao.InitVideo(1) # resolution 320*240\n",
    "#         nao.InitLandMark()\n",
    "        # detect landmark and return info\n",
    "#         for cnt in range(detect_cnt):\n",
    "#             detected, timestamp, markerInfo=nao.DetectLandMark()\n",
    "#             if(detected):\n",
    "#                 return detected, markerInfo\n",
    "    # return origin pose if not detect landmark\n",
    "    nao.MoveHead(yaw_val = 0, pitch_val=0, isAbsolute=True)\n",
    "    return False, None"
   ]
  },
  {
   "cell_type": "code",
   "execution_count": 73,
   "metadata": {
    "collapsed": false
   },
   "outputs": [
    {
     "name": "stdout",
     "output_type": "stream",
     "text": [
      "Error when creating  ALAudioDevice  proxy:\n",
      "\tALProxy::ALProxy\n",
      "\tCan't find service: ALAudioDevice\n",
      "Error when creating  ALFaceDetection  proxy:\n",
      "\tALProxy::ALProxy\n",
      "\tCan't find service: ALFaceDetection\n",
      "Error when creating  ALFaceTracker  proxy:\n",
      "\tALProxy::ALProxy\n",
      "\tCan't find service: ALFaceTracker\n",
      "Error when creating  ALSpeechRecognition  proxy:\n",
      "\tALProxy::ALProxy\n",
      "\tCan't find service: ALSpeechRecognition\n",
      "Error when creating  ALVideoRecorder  proxy:\n",
      "\tALProxy::ALProxy\n",
      "\tCan't find service: ALVideoRecorder\n",
      "Error when creating  ALLandMarkDetection  proxy:\n",
      "\tALProxy::ALProxy\n",
      "\tCan't find service: ALLandMarkDetection\n",
      "Error when creating  ALSoundDetection  proxy:\n",
      "\tALProxy::ALProxy\n",
      "\tCan't find service: ALSoundDetection\n",
      "Error when creating  ALAudioSourceLocalization  proxy:\n",
      "\tALProxy::ALProxy\n",
      "\tCan't find service: ALAudioSourceLocalization\n"
     ]
    }
   ],
   "source": [
    "nao.InitProxy(\"127.0.0.1\")\n",
    "nao.InitPose() #this line makes the robot stand up "
   ]
  },
  {
   "cell_type": "code",
   "execution_count": 74,
   "metadata": {
    "collapsed": false
   },
   "outputs": [
    {
     "name": "stdout",
     "output_type": "stream",
     "text": [
      "2.54999995232 2.54999995232\n",
      "I cannot find landmark!\n"
     ]
    }
   ],
   "source": [
    "\n",
    "# find landmark\n",
    "find_landmark, markinfo = search_landmark()\n",
    "\n",
    "if(find_landmark):\n",
    "    print markinfo[0][3]\n",
    "else:\n",
    "    nao.InitSonar(True)\n",
    "    [SL, SR]=nao.ReadSonar()\n",
    "    print SL, SR\n",
    "    if(SL > 1 and SR > 1):\n",
    "        nao.Stiffen() # turns all motors on\n",
    "        nao.Walk(0.5, 0, 0) # move forward to find the landmark\n",
    "    else:\n",
    "#         nao.Walk(0,0,math.pi) # turn around\n",
    "        while(SL<1 or SR<1):\n",
    "            nao.Move(0,0,0.349)\n",
    "            [SL, SR]=nao.ReadSonar()\n",
    "        nao.Walk(0.5, 0, 0)\n",
    "    find_landmark, markinfo = search_landmark()\n",
    "    if(find_landmark==False):\n",
    "#         speaker = ALProxy(IP=\"marvin.local\", proxy=[0], PORT = 9559) # may need to changed\n",
    "        nao.Say(\"I cannot find landmark!\")\n",
    "        print \"I cannot find landmark!\"\n",
    "\n"
   ]
  },
  {
   "cell_type": "code",
   "execution_count": 64,
   "metadata": {
    "collapsed": false
   },
   "outputs": [
    {
     "name": "stdout",
     "output_type": "stream",
     "text": [
      "2.54999995232 0.25\n"
     ]
    }
   ],
   "source": [
    "#nao.Walk(0,0,math.pi) # turn around\n",
    "[SL, SR]=nao.ReadSonar()\n",
    "print SL, SR\n",
    "while(SL<1 or SR<1):\n",
    "    nao.Move(0,0,0.349)\n",
    "    [SL, SR]=nao.ReadSonar()\n",
    "nao.Move(0,0,0)\n",
    "# nao.Walk(0.5, 0, 0)"
   ]
  },
  {
   "cell_type": "code",
   "execution_count": null,
   "metadata": {
    "collapsed": true
   },
   "outputs": [],
   "source": []
  }
 ],
 "metadata": {
  "interpreter": {
   "hash": "d8b33154e94ef7fbd9eb05f448089dfbe4e6a56194b64c2b9846716689325198"
  },
  "kernelspec": {
   "display_name": "Python 2",
   "language": "python",
   "name": "python2"
  },
  "language_info": {
   "codemirror_mode": {
    "name": "ipython",
    "version": 2
   },
   "file_extension": ".py",
   "mimetype": "text/x-python",
   "name": "python",
   "nbconvert_exporter": "python",
   "pygments_lexer": "ipython2",
   "version": "2.7.10"
  }
 },
 "nbformat": 4,
 "nbformat_minor": 2
}
