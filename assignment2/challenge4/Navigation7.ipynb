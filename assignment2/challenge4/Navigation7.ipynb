{
 "cells": [
  {
   "cell_type": "code",
   "execution_count": 1,
   "metadata": {},
   "outputs": [],
   "source": [
    "# from behaviour_based_navigation import *\n",
    "import nao_nocv_2_1 as nao\n",
    "import os\n",
    "import math\n",
    "import numpy as np"
   ]
  },
  {
   "cell_type": "code",
   "execution_count": 2,
   "metadata": {},
   "outputs": [],
   "source": [
    "from time import sleep"
   ]
  },
  {
   "cell_type": "code",
   "execution_count": 3,
   "metadata": {},
   "outputs": [],
   "source": [
    "import math\n",
    "import random\n",
    "\n",
    "degree = math.pi/180.0 # radians per degree\n",
    "\n",
    "def FTarget(target_distance, target_angle):\n",
    "\n",
    "    #do something useful here\n",
    "    Ftar=0\n",
    "    Ftar=-math.sin(-target_angle)#*math.exp(-target_distance)\n",
    "    print (\"Ftar\", Ftar)\n",
    "    return Ftar\n",
    "\n",
    "def FObstacle(obs_distance, obs_angle):\n",
    "    # too_far=10 #cm\n",
    "    too_far=5 #cm\n",
    "    sigma_obs=100 #cm?\n",
    "    beta_2=100 #?\n",
    "    if obs_distance < too_far:\n",
    "        #do something useful here\n",
    "        Fobs=0 # needs replacing !\n",
    "        Fobs=math.exp(-(obs_angle)**2/(2*sigma_obs*sigma_obs))*(-obs_angle)*math.exp(-obs_distance/beta_2)\n",
    "    else:\n",
    "        Fobs=0\n",
    "    return Fobs\n",
    "def FStochastic():\n",
    "    \"\"\"FStochastic adds noise to the turnrate force. This is just to make the simulation more realistic by adding some noie something useful here\"\"\"\n",
    "    Kstoch=0.03\n",
    "    \n",
    "    Fstoch =Kstoch*random.randint(1,100)/100.0\n",
    "    return Fstoch\n",
    "\n",
    "def FOrienting():\n",
    "    #do something useful here\n",
    "    Forient=0\n",
    "    return Forient\n",
    "\n",
    "def compute_velocity(sonar_distance_left, sonar_distance_right):\n",
    "    max_velocity = 1.0\n",
    "    max_distance = 0.5 #m\n",
    "    min_distance = 0.3 #m\n",
    "\n",
    "    if sonar_distance_left>max_distance and sonar_distance_right > max_distance:\n",
    "        velocity = max_velocity\n",
    "    elif sonar_distance_left<min_distance or sonar_distance_right < min_distance:\n",
    "        velocity = 0.0\n",
    "    elif sonar_distance_left<sonar_distance_right:\n",
    "        velocity = max_velocity*sonar_distance_left/max_distance\n",
    "    else:\n",
    "        velocity = max_velocity*sonar_distance_right/max_distance\n",
    "\n",
    "    \n",
    "    return velocity\n",
    "\n",
    "def compute_turnrate(target_dist, target_angle, sonar_distance_left, sonar_distance_right):\n",
    "    max_turnrate = 0.349 #rad/s # may need adjustment!\n",
    "    # max_turnrate = 3.145926 /2  #rad/s # may need adjustment!\n",
    "\n",
    "    delta_t = 0.05 # may need adjustment!\n",
    "    sonar_angle_left = 30 * degree\n",
    "    sonar_angle_right = -30 * degree\n",
    "    beta_1=20\n",
    "    Fobs_left =beta_1*(sonar_distance_left/(sonar_distance_left+sonar_distance_right))*FObstacle(sonar_distance_left, sonar_angle_left)\n",
    "    Fobs_right =beta_1*(sonar_distance_right/(sonar_distance_left+sonar_distance_right))* FObstacle(sonar_distance_right, sonar_angle_right)\n",
    "    THRESHOLD=0.0001\n",
    "    MAX_SONAR_DISTANCE=2.5\n",
    "    if (abs(sonar_distance_left-sonar_angle_right)<THRESHOLD and sonar_distance_left<MAX_SONAR_DISTANCE):\n",
    "        Fobs_left*=1.01\n",
    "    print(sonar_distance_left)    \n",
    "    print(sonar_distance_right)\n",
    "    \n",
    "    print(\"Fobs_left\",Fobs_left)\n",
    "    print(\"Fobs_right\",Fobs_right)\n",
    "    FTotal = 0.5*FTarget(target_dist, target_angle) + \\\n",
    "             Fobs_left + \\\n",
    "             Fobs_right + \\\n",
    "             FOrienting() + \\\n",
    "             FStochastic()\n",
    "             \n",
    "    # turnrate: d phi(t) / dt = sum( forces ) \n",
    "    turnrate =  FTotal*delta_t\n",
    "    \n",
    "    #normalise turnrate value\n",
    "    if turnrate>max_turnrate:\n",
    "        turnrate=1.0\n",
    "    else:\n",
    "        turnrate=turnrate/max_turnrate\n",
    "\n",
    "    return turnrate\n",
    "\n",
    "if __name__==\"__main__\":\n",
    "    pass\n"
   ]
  },
  {
   "cell_type": "code",
   "execution_count": 4,
   "metadata": {},
   "outputs": [],
   "source": [
    "def compute_target_location(robot, alltargets):\n",
    "    \"\"\"This function computes the distance to the target and the angle relative to the robot in world coordinates\"\"\"\n",
    "    dist = []\n",
    "    angle = []\n",
    "    for tar in alltargets:\n",
    "        dx = tar.x - robot.x\n",
    "        dy = tar.y - robot.y\n",
    "        dist.append(np.linalg.norm([dx, dy]))\n",
    "        angle.append(math.atan2(dy, dx))\n",
    "    i = np.argmin(dist)\n",
    "    return dist[i], angle[i]\n",
    "\n",
    "\n",
    "def scan_world(robot, alltargets,cur_pos):\n",
    "    [sonar_left, sonar_right] = robot.ReadSonar()\n",
    "    target_distance, target_angle = compute_target_location(cur_pos, alltargets)  # The angle is with respect to the world frame\n",
    "    # print sonar_left, sonar_right, target_distance, target_angle\n",
    "    target_angle_robot = target_angle - cur_pos.theta  # This is the angle relative to the heading direction of the robot.\n",
    "\n",
    "    turn_rate = compute_turnrate(target_distance, target_angle_robot, sonar_left, sonar_right)\n",
    "    velocity = compute_velocity(sonar_left, sonar_right)\n",
    "    return velocity,turn_rate\n"
   ]
  },
  {
   "cell_type": "code",
   "execution_count": 5,
   "metadata": {},
   "outputs": [],
   "source": [
    "# ip_addr=\"127.0.0.1\"\n",
    "ip_addr=\"192.168.0.115\"\n",
    "nao.InitProxy(ip_addr)"
   ]
  },
  {
   "cell_type": "code",
   "execution_count": 6,
   "metadata": {},
   "outputs": [],
   "source": [
    "nao.GoToPosture(\"StandZero\")"
   ]
  },
  {
   "cell_type": "code",
   "execution_count": 7,
   "metadata": {},
   "outputs": [],
   "source": [
    "class Position:\n",
    "    def __init__(self,x,y,theta):\n",
    "        self.x=x\n",
    "        self.y=y\n",
    "        self.theta=theta\n",
    "    def __sub__(self,another):\n",
    "        return Position(self.x-another.x,self.y-another.y,0)\n",
    "    def norm(self,ord=2):\n",
    "        return math.sqrt(self.x**2+self.y**2)\n",
    "    def __add__(self,another):\n",
    "        return Position(self.x+another.x,self.y+another.y,self.theta+another.theta)\n",
    "    def __str__(self):\n",
    "        return \"x: \"+str(self.x)+\" y: \"+str(self.y) + \" theta:\"+str(self.theta)"
   ]
  },
  {
   "cell_type": "code",
   "execution_count": 9,
   "metadata": {},
   "outputs": [],
   "source": [
    "delta_t=0.3\n",
    "cur_pos=Position(1,0,0)\n",
    "target=Position(1,0,0)"
   ]
  },
  {
   "cell_type": "code",
   "execution_count": 10,
   "metadata": {},
   "outputs": [
    {
     "data": {
      "text/plain": [
       "True"
      ]
     },
     "execution_count": 10,
     "metadata": {},
     "output_type": "execute_result"
    }
   ],
   "source": [
    "nao.InitSonar(True)"
   ]
  },
  {
   "cell_type": "code",
   "execution_count": 11,
   "metadata": {},
   "outputs": [
    {
     "name": "stdout",
     "output_type": "stream",
     "text": [
      "0.610000014305\n",
      "0.709999978542\n",
      "('Fobs_left', -4.80982621104444)\n",
      "('Fobs_right', 5.592726488954022)\n",
      "('Ftar', 0.0)\n",
      "0.239999994636\n",
      "0.620000004768\n",
      "('Fobs_left', -2.9153663658746054)\n",
      "('Fobs_right', 7.502798464291759)\n",
      "('Ftar', 0.0)\n",
      "0.389999985695\n",
      "0.459999978542\n",
      "('Fobs_left', -4.786021001405243)\n",
      "('Fobs_right', 5.641100203516997)\n",
      "('Ftar', 0.0)\n",
      "1.05999994278"
     ]
    },
    {
     "ename": "",
     "evalue": "",
     "output_type": "error",
     "traceback": [
      "\u001b[1;31mCanceled future for execute_request message before replies were done"
     ]
    },
    {
     "ename": "",
     "evalue": "",
     "output_type": "error",
     "traceback": [
      "\u001b[1;31mThe Kernel crashed while executing code in the the current cell or a previous cell. Please review the code in the cell(s) to identify a possible cause of the failure. Click <a href='https://aka.ms/vscodeJupyterKernelCrash'>here</a> for more info. View Jupyter <a href='command:jupyter.viewOutput'>log</a> for further details."
     ]
    }
   ],
   "source": [
    "for i in range(100):\n",
    "    vel,turnrate=scan_world(nao,[target],cur_pos)\n",
    "    d_theta=-turnrate*delta_t\n",
    "    # print(\"d_theta\",d_theta)\n",
    "    dx=vel*delta_t*math.cos(d_theta)\n",
    "    dy=vel*delta_t*math.sin(d_theta)\n",
    "    nao.Walk(dx,dy,d_theta)\n",
    "    nao.motionProxy.waitUntilMoveIsFinished()"
   ]
  },
  {
   "cell_type": "code",
   "execution_count": null,
   "metadata": {},
   "outputs": [],
   "source": []
  }
 ],
 "metadata": {
  "kernelspec": {
   "display_name": "Python 2",
   "language": "python",
   "name": "python2"
  },
  "language_info": {
   "codemirror_mode": {
    "name": "ipython",
    "version": 2
   },
   "file_extension": ".py",
   "mimetype": "text/x-python",
   "name": "python",
   "nbconvert_exporter": "python",
   "pygments_lexer": "ipython2",
   "version": "2.7.10"
  },
  "orig_nbformat": 4
 },
 "nbformat": 4,
 "nbformat_minor": 2
}
