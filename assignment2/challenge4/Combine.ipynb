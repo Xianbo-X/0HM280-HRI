{
 "cells": [
  {
   "cell_type": "code",
   "execution_count": 1,
   "metadata": {},
   "outputs": [],
   "source": [
    "from behavior_based_navigation_ch4 import *\n",
    "from detect_landmark import search_landmark\n",
    "import nao_nocv_2_1 as nao\n",
    "import os\n",
    "import math\n",
    "import numpy as np"
   ]
  },
  {
   "cell_type": "code",
   "execution_count": 2,
   "metadata": {},
   "outputs": [],
   "source": [
    "class Position:\n",
    "    def __init__(self,x,y,theta):\n",
    "        self.x=x\n",
    "        self.y=y\n",
    "        self.theta=theta\n",
    "    def __sub__(self,another):\n",
    "        return Position(self.x-another.x,self.y-another.y,0)\n",
    "    def norm(self,ord=2):\n",
    "        return math.sqrt(self.x**2+self.y**2)\n",
    "    def __add__(self,another):\n",
    "        return Position(self.x+another.x,self.y+another.y,self.theta+another.theta)\n",
    "    def __str__(self):\n",
    "        return \"x: \"+str(self.x)+\" y: \"+str(self.y) + \" theta:\"+str(self.theta)"
   ]
  },
  {
   "cell_type": "code",
   "execution_count": 3,
   "metadata": {},
   "outputs": [
    {
     "name": "stdout",
     "output_type": "stream",
     "text": [
      "Error when creating  ALAudioDevice  proxy:\n",
      "\tALProxy::ALProxy\n",
      "\tCan't find service: ALAudioDevice\n",
      "Error when creating  ALFaceDetection  proxy:\n",
      "\tALProxy::ALProxy\n",
      "\tCan't find service: ALFaceDetection\n",
      "Error when creating  ALFaceTracker  proxy:\n",
      "\tALProxy::ALProxy\n",
      "\tCan't find service: ALFaceTracker\n",
      "Error when creating  ALSpeechRecognition  proxy:\n",
      "\tALProxy::ALProxy\n",
      "\tCan't find service: ALSpeechRecognition\n",
      "Error when creating  ALVideoRecorder  proxy:\n",
      "\tALProxy::ALProxy\n",
      "\tCan't find service: ALVideoRecorder\n",
      "Error when creating  ALLandMarkDetection  proxy:\n",
      "\tALProxy::ALProxy\n",
      "\tCan't find service: ALLandMarkDetection\n",
      "Error when creating  ALSoundDetection  proxy:\n",
      "\tALProxy::ALProxy\n",
      "\tCan't find service: ALSoundDetection\n",
      "Error when creating  ALAudioSourceLocalization  proxy:\n",
      "\tALProxy::ALProxy\n",
      "\tCan't find service: ALAudioSourceLocalization\n"
     ]
    }
   ],
   "source": [
    "ip_addr=\"127.0.0.1\"\n",
    "# ip_addr=\"192.168.0.115\"\n",
    "nao.InitProxy(ip_addr)"
   ]
  },
  {
   "cell_type": "code",
   "execution_count": 4,
   "metadata": {},
   "outputs": [],
   "source": [
    "nao.InitPose()"
   ]
  },
  {
   "cell_type": "code",
   "execution_count": 5,
   "metadata": {},
   "outputs": [
    {
     "name": "stdout",
     "output_type": "stream",
     "text": [
      "0.902808487415 2.54999995232\n",
      "2.54999995232\n",
      "2.54999995232\n",
      "('Fobs_left', -5.104088076740828)\n",
      "('Fobs_right', 5.104088076740828)\n",
      "('Ftar', -0.0)\n"
     ]
    },
    {
     "ename": "RuntimeError",
     "evalue": "\tALMotion::stiffnessInterpolation\n\tSocket disconnected",
     "output_type": "error",
     "traceback": [
      "\u001b[1;31m---------------------------------------------------------------------------\u001b[0m",
      "\u001b[1;31mRuntimeError\u001b[0m                              Traceback (most recent call last)",
      "\u001b[1;32m<ipython-input-5-0958e303eba2>\u001b[0m in \u001b[0;36m<module>\u001b[1;34m()\u001b[0m\n\u001b[0;32m     24\u001b[0m             \u001b[0mmoveToTarget\u001b[0m\u001b[1;33m(\u001b[0m\u001b[0mnao\u001b[0m\u001b[1;33m,\u001b[0m\u001b[1;36m0.5\u001b[0m\u001b[1;33m,\u001b[0m\u001b[1;36m0\u001b[0m\u001b[1;33m)\u001b[0m\u001b[1;33m\u001b[0m\u001b[0m\n\u001b[0;32m     25\u001b[0m             \u001b[1;31m# nao.Walk(0.5, 0, 0)\u001b[0m\u001b[1;33m\u001b[0m\u001b[1;33m\u001b[0m\u001b[0m\n\u001b[1;32m---> 26\u001b[1;33m         \u001b[0mfind_landmark\u001b[0m\u001b[1;33m,\u001b[0m \u001b[0mmarkinfo\u001b[0m \u001b[1;33m=\u001b[0m \u001b[0msearch_landmark\u001b[0m\u001b[1;33m(\u001b[0m\u001b[0mnao\u001b[0m\u001b[1;33m)\u001b[0m\u001b[1;33m\u001b[0m\u001b[0m\n\u001b[0m\u001b[0;32m     27\u001b[0m         \u001b[1;32mif\u001b[0m\u001b[1;33m(\u001b[0m\u001b[0mfind_landmark\u001b[0m\u001b[1;33m==\u001b[0m\u001b[0mFalse\u001b[0m\u001b[1;33m)\u001b[0m\u001b[1;33m:\u001b[0m\u001b[1;33m\u001b[0m\u001b[0m\n\u001b[0;32m     28\u001b[0m     \u001b[1;31m#         speaker = ALProxy(IP=\"marvin.local\", proxy=[0], PORT = 9559) # may need to changed\u001b[0m\u001b[1;33m\u001b[0m\u001b[1;33m\u001b[0m\u001b[0m\n",
      "\u001b[1;32mc:\\Users\\Silas\\Workspace\\0HM280-HRI\\assignment2\\challenge4\\detect_landmark.pyc\u001b[0m in \u001b[0;36msearch_landmark\u001b[1;34m(nao)\u001b[0m\n\u001b[0;32m     15\u001b[0m \u001b[1;31m#     for rad in range(head_mov_range):\u001b[0m\u001b[1;33m\u001b[0m\u001b[1;33m\u001b[0m\u001b[0m\n\u001b[0;32m     16\u001b[0m     \u001b[1;32mfor\u001b[0m \u001b[0mrad\u001b[0m \u001b[1;32min\u001b[0m \u001b[0mhead_mov_range\u001b[0m\u001b[1;33m:\u001b[0m\u001b[1;33m\u001b[0m\u001b[0m\n\u001b[1;32m---> 17\u001b[1;33m         \u001b[0mnao\u001b[0m\u001b[1;33m.\u001b[0m\u001b[0mInitTrack\u001b[0m\u001b[1;33m(\u001b[0m\u001b[1;33m)\u001b[0m\u001b[1;33m\u001b[0m\u001b[0m\n\u001b[0m\u001b[0;32m     18\u001b[0m         \u001b[0mnao\u001b[0m\u001b[1;33m.\u001b[0m\u001b[0mMoveHead\u001b[0m\u001b[1;33m(\u001b[0m\u001b[0myaw_val\u001b[0m \u001b[1;33m=\u001b[0m \u001b[0mrad\u001b[0m\u001b[1;33m,\u001b[0m \u001b[0mpitch_val\u001b[0m\u001b[1;33m=\u001b[0m\u001b[1;36m0\u001b[0m\u001b[1;33m,\u001b[0m \u001b[0misAbsolute\u001b[0m\u001b[1;33m=\u001b[0m\u001b[0mTrue\u001b[0m\u001b[1;33m)\u001b[0m\u001b[1;33m\u001b[0m\u001b[0m\n\u001b[0;32m     19\u001b[0m \u001b[1;31m#         time.sleep(0.2)\u001b[0m\u001b[1;33m\u001b[0m\u001b[1;33m\u001b[0m\u001b[0m\n",
      "\u001b[1;32mc:\\Users\\Silas\\Workspace\\0HM280-HRI\\assignment2\\challenge4\\nao_nocv_2_1.pyc\u001b[0m in \u001b[0;36mInitTrack\u001b[1;34m()\u001b[0m\n\u001b[0;32m    516\u001b[0m     \u001b[1;31m# Stiffening the head joints\u001b[0m\u001b[1;33m\u001b[0m\u001b[1;33m\u001b[0m\u001b[0m\n\u001b[0;32m    517\u001b[0m     \u001b[0mmotionProxy\u001b[0m\u001b[1;33m.\u001b[0m\u001b[0mstiffnessInterpolation\u001b[0m\u001b[1;33m(\u001b[0m\u001b[1;34m'HeadYaw'\u001b[0m\u001b[1;33m,\u001b[0m \u001b[1;36m1.0\u001b[0m\u001b[1;33m,\u001b[0m \u001b[1;36m1.0\u001b[0m\u001b[1;33m)\u001b[0m\u001b[1;33m\u001b[0m\u001b[0m\n\u001b[1;32m--> 518\u001b[1;33m     \u001b[0mmotionProxy\u001b[0m\u001b[1;33m.\u001b[0m\u001b[0mstiffnessInterpolation\u001b[0m\u001b[1;33m(\u001b[0m\u001b[1;34m'HeadPitch'\u001b[0m\u001b[1;33m,\u001b[0m \u001b[1;36m1.0\u001b[0m\u001b[1;33m,\u001b[0m \u001b[1;36m1.0\u001b[0m\u001b[1;33m)\u001b[0m\u001b[1;33m\u001b[0m\u001b[0m\n\u001b[0m\u001b[0;32m    519\u001b[0m     \u001b[0minterpol_time\u001b[0m \u001b[1;33m=\u001b[0m \u001b[1;36m0.5\u001b[0m\u001b[1;33m\u001b[0m\u001b[0m\n\u001b[0;32m    520\u001b[0m     \u001b[0mnames\u001b[0m  \u001b[1;33m=\u001b[0m \u001b[1;33m[\u001b[0m\u001b[1;34m\"HeadYaw\"\u001b[0m\u001b[1;33m,\u001b[0m\u001b[1;34m\"HeadPitch\"\u001b[0m\u001b[1;33m]\u001b[0m\u001b[1;33m\u001b[0m\u001b[0m\n",
      "\u001b[1;32mc:\\Users\\Silas\\Programs\\Academic\\WinPython-32bit-2.7.10.3\\python-2.7.10\\lib\\site-packages\\naoqi.pyc\u001b[0m in \u001b[0;36m__call__\u001b[1;34m(self, *args, **kwargs)\u001b[0m\n\u001b[0;32m    299\u001b[0m                     \u001b[0mself\u001b[0m\u001b[1;33m.\u001b[0m\u001b[0m__method__\u001b[0m \u001b[1;33m=\u001b[0m \u001b[0mmethod\u001b[0m\u001b[1;33m\u001b[0m\u001b[0m\n\u001b[0;32m    300\u001b[0m                 \u001b[1;32mdef\u001b[0m \u001b[0m__call__\u001b[0m\u001b[1;33m(\u001b[0m\u001b[0mself\u001b[0m\u001b[1;33m,\u001b[0m \u001b[1;33m*\u001b[0m\u001b[0margs\u001b[0m\u001b[1;33m,\u001b[0m \u001b[1;33m**\u001b[0m\u001b[0mkwargs\u001b[0m\u001b[1;33m)\u001b[0m\u001b[1;33m:\u001b[0m\u001b[1;33m\u001b[0m\u001b[0m\n\u001b[1;32m--> 301\u001b[1;33m                     \u001b[1;32mreturn\u001b[0m \u001b[0mself\u001b[0m\u001b[1;33m.\u001b[0m\u001b[0m__wrapped__\u001b[0m\u001b[1;33m.\u001b[0m\u001b[0mmethod_missing\u001b[0m\u001b[1;33m(\u001b[0m\u001b[0mself\u001b[0m\u001b[1;33m.\u001b[0m\u001b[0m__method__\u001b[0m\u001b[1;33m,\u001b[0m \u001b[1;33m*\u001b[0m\u001b[0margs\u001b[0m\u001b[1;33m,\u001b[0m \u001b[1;33m**\u001b[0m\u001b[0mkwargs\u001b[0m\u001b[1;33m)\u001b[0m\u001b[1;33m\u001b[0m\u001b[0m\n\u001b[0m\u001b[0;32m    302\u001b[0m \u001b[1;33m\u001b[0m\u001b[0m\n\u001b[0;32m    303\u001b[0m             \u001b[1;32mreturn\u001b[0m \u001b[0mMethodMissing\u001b[0m\u001b[1;33m(\u001b[0m\u001b[0mself\u001b[0m\u001b[1;33m,\u001b[0m \u001b[0mattr\u001b[0m\u001b[1;33m)\u001b[0m\u001b[1;33m\u001b[0m\u001b[0m\n",
      "\u001b[1;32mc:\\Users\\Silas\\Programs\\Academic\\WinPython-32bit-2.7.10.3\\python-2.7.10\\lib\\site-packages\\naoqi.pyc\u001b[0m in \u001b[0;36mmethod_missing\u001b[1;34m(self, method, *args, **kwargs)\u001b[0m\n\u001b[0;32m    369\u001b[0m                 \u001b[0mresult\u001b[0m \u001b[1;33m=\u001b[0m \u001b[0mself\u001b[0m\u001b[1;33m.\u001b[0m\u001b[0mpythonCall\u001b[0m\u001b[1;33m(\u001b[0m\u001b[0mlist\u001b[0m\u001b[1;33m)\u001b[0m\u001b[1;33m\u001b[0m\u001b[0m\n\u001b[0;32m    370\u001b[0m           \u001b[1;32mexcept\u001b[0m \u001b[0mRuntimeError\u001b[0m\u001b[1;33m,\u001b[0m\u001b[0me\u001b[0m\u001b[1;33m:\u001b[0m\u001b[1;33m\u001b[0m\u001b[0m\n\u001b[1;32m--> 371\u001b[1;33m                 \u001b[1;32mraise\u001b[0m \u001b[0me\u001b[0m\u001b[1;33m\u001b[0m\u001b[0m\n\u001b[0m\u001b[0;32m    372\u001b[0m                 \u001b[1;31m#print e.args[0]\u001b[0m\u001b[1;33m\u001b[0m\u001b[1;33m\u001b[0m\u001b[0m\n\u001b[0;32m    373\u001b[0m \u001b[1;33m\u001b[0m\u001b[0m\n",
      "\u001b[1;31mRuntimeError\u001b[0m: \tALMotion::stiffnessInterpolation\n\tSocket disconnected"
     ]
    }
   ],
   "source": [
    "nao.InitPose()\n",
    "nao.InitSonar()\n",
    "\n",
    "# find landmark\n",
    "find_landmark, markinfo = search_landmark(nao)\n",
    "reach_landmark=False\n",
    "while (not reach_landmark):\n",
    "    if(find_landmark):\n",
    "        print markinfo[0][3]\n",
    "        # moveToTarget(nao,target,cur_pos)\n",
    "    else:\n",
    "        nao.InitSonar(True)\n",
    "        [SL, SR]=nao.ReadSonar()\n",
    "        print SL, SR\n",
    "        if(SL > 1 and SR > 1):\n",
    "            nao.Stiffen() # turns all motors on\n",
    "            moveToTarget(nao,0.5,0)\n",
    "            # nao.Walk(0.5, 0, 0) # move forward to find the landmark\n",
    "        else:\n",
    "    #         nao.Walk(0,0,math.pi) # turn around\n",
    "            while(SL<1 or SR<1):\n",
    "                nao.Move(0,0,0.349)\n",
    "                [SL, SR]=nao.ReadSonar()\n",
    "            moveToTarget(nao,0.5,0)\n",
    "            # nao.Walk(0.5, 0, 0)\n",
    "        find_landmark, markinfo = search_landmark(nao)\n",
    "        if(find_landmark==False):\n",
    "    #         speaker = ALProxy(IP=\"marvin.local\", proxy=[0], PORT = 9559) # may need to changed\n",
    "            nao.Say(\"I cannot find landmark!\")\n",
    "            print \"I cannot find landmark!\"\n",
    "\n"
   ]
  },
  {
   "cell_type": "code",
   "execution_count": null,
   "metadata": {},
   "outputs": [],
   "source": []
  }
 ],
 "metadata": {
  "interpreter": {
   "hash": "8e3b8a5dc44453d3aa8691e75dd8baddef5f6d5d2c33f45f1252408e5ee96b96"
  },
  "kernelspec": {
   "display_name": "Python 2",
   "language": "python",
   "name": "python2"
  },
  "language_info": {
   "codemirror_mode": {
    "name": "ipython",
    "version": 2
   },
   "file_extension": ".py",
   "mimetype": "text/x-python",
   "name": "python",
   "nbconvert_exporter": "python",
   "pygments_lexer": "ipython2",
   "version": "2.7.10"
  },
  "orig_nbformat": 4
 },
 "nbformat": 4,
 "nbformat_minor": 2
}
