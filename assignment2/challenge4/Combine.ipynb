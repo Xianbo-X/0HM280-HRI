{
 "cells": [
  {
   "cell_type": "code",
   "execution_count": 1,
   "metadata": {},
   "outputs": [],
   "source": [
    "from behavior_based_navigation_ch4 import *\n",
    "from detect_landmark import search_landmark\n",
    "import nao_nocv_2_1 as nao\n",
    "import os\n",
    "import math\n",
    "import numpy as np"
   ]
  },
  {
   "cell_type": "code",
   "execution_count": 2,
   "metadata": {},
   "outputs": [],
   "source": [
    "ip_addr=\"192.168.0.115\"\n",
    "nao.InitProxy(ip_addr)\n",
    "nao.InitPose() #this line makes the robot stand up "
   ]
  },
  {
   "cell_type": "code",
   "execution_count": 3,
   "metadata": {},
   "outputs": [],
   "source": [
    "class Position:\n",
    "    def __init__(self,x,y,theta):\n",
    "        self.x=x\n",
    "        self.y=y\n",
    "        self.theta=theta\n",
    "    def __sub__(self,another):\n",
    "        return Position(self.x-another.x,self.y-another.y,0)\n",
    "    def norm(self,ord=2):\n",
    "        return math.sqrt(self.x**2+self.y**2)\n",
    "    def __add__(self,another):\n",
    "        return Position(self.x+another.x,self.y+another.y,self.theta+another.theta)\n",
    "    def __str__(self):\n",
    "        return \"x: \"+str(self.x)+\" y: \"+str(self.y) + \" theta:\"+str(self.theta)"
   ]
  },
  {
   "cell_type": "code",
   "execution_count": 3,
   "metadata": {},
   "outputs": [
    {
     "name": "stdout",
     "output_type": "stream",
     "text": [
      "Error when creating  ALAudioDevice  proxy:\n",
      "\tALProxy::ALProxy\n",
      "\tCan't find service: ALAudioDevice\n",
      "Error when creating  ALFaceDetection  proxy:\n",
      "\tALProxy::ALProxy\n",
      "\tCan't find service: ALFaceDetection\n",
      "Error when creating  ALFaceTracker  proxy:\n",
      "\tALProxy::ALProxy\n",
      "\tCan't find service: ALFaceTracker\n",
      "Error when creating  ALSpeechRecognition  proxy:\n",
      "\tALProxy::ALProxy\n",
      "\tCan't find service: ALSpeechRecognition\n",
      "Error when creating  ALVideoRecorder  proxy:\n",
      "\tALProxy::ALProxy\n",
      "\tCan't find service: ALVideoRecorder\n",
      "Error when creating  ALLandMarkDetection  proxy:\n",
      "\tALProxy::ALProxy\n",
      "\tCan't find service: ALLandMarkDetection\n",
      "Error when creating  ALSoundDetection  proxy:\n",
      "\tALProxy::ALProxy\n",
      "\tCan't find service: ALSoundDetection\n",
      "Error when creating  ALAudioSourceLocalization  proxy:\n",
      "\tALProxy::ALProxy\n",
      "\tCan't find service: ALAudioSourceLocalization\n"
     ]
    }
   ],
   "source": [
    "ip_addr=\"127.0.0.1\"\n",
    "# ip_addr=\"192.168.0.115\"\n",
    "nao.InitProxy(ip_addr)"
   ]
  },
  {
   "cell_type": "code",
   "execution_count": 4,
   "metadata": {},
   "outputs": [],
   "source": [
    "nao.InitPose()"
   ]
  },
  {
   "cell_type": "code",
   "execution_count": 4,
   "metadata": {},
   "outputs": [],
   "source": [
    "nao.InitPose()\n",
    "nao.InitSonar()\n",
    "\n",
    "# find landmark\n",
    "find_landmark, markinfo = search_landmark(nao)\n",
    "reach_landmark=False\n",
    "while (not reach_landmark):\n",
    "    if(find_landmark):\n",
    "        print markinfo[0][3]\n",
    "        # moveToTarget(nao,target,cur_pos)\n",
    "    else:\n",
    "        nao.InitSonar(True)\n",
    "        [SL, SR]=nao.ReadSonar()\n",
    "        print SL, SR\n",
    "        if(SL > 1 and SR > 1):\n",
    "            nao.Stiffen() # turns all motors on\n",
    "            moveToTarget(nao,0.5,0)\n",
    "            # nao.Walk(0.5, 0, 0) # move forward to find the landmark\n",
    "        else:\n",
    "    #         nao.Walk(0,0,math.pi) # turn around\n",
    "            while(SL<1 or SR<1):\n",
    "                nao.Move(0,0,0.349)\n",
    "                [SL, SR]=nao.ReadSonar()\n",
    "            moveToTarget(nao,0.5,0)\n",
    "            # nao.Walk(0.5, 0, 0)\n",
    "        find_landmark, markinfo = search_landmark(nao)\n",
    "        if(find_landmark==False):\n",
    "    #         speaker = ALProxy(IP=\"marvin.local\", proxy=[0], PORT = 9559) # may need to changed\n",
    "            nao.Say(\"I cannot find landmark!\")\n",
    "            print \"I cannot find landmark!\"\n",
    "\n"
   ]
  },
  {
   "cell_type": "code",
   "execution_count": null,
   "metadata": {},
   "outputs": [],
   "source": []
  }
 ],
 "metadata": {
  "interpreter": {
   "hash": "8e3b8a5dc44453d3aa8691e75dd8baddef5f6d5d2c33f45f1252408e5ee96b96"
  },
  "kernelspec": {
   "display_name": "Python 2",
   "language": "python",
   "name": "python2"
  },
  "language_info": {
   "codemirror_mode": {
    "name": "ipython",
    "version": 2
   },
   "file_extension": ".py",
   "mimetype": "text/x-python",
   "name": "python",
   "nbconvert_exporter": "python",
   "pygments_lexer": "ipython2",
   "version": "2.7.10"
  },
  "orig_nbformat": 4
 },
 "nbformat": 4,
 "nbformat_minor": 2
}
